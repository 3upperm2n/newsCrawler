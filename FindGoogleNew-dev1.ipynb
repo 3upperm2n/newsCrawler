{
 "cells": [
  {
   "cell_type": "code",
   "execution_count": 1,
   "metadata": {
    "collapsed": true
   },
   "outputs": [],
   "source": [
    "import feedparser\n",
    "from urlparse import urlparse\n",
    "import re\n",
    "\n",
    "import time\n",
    "from subprocess import check_output\n",
    "import sys"
   ]
  },
  {
   "cell_type": "markdown",
   "metadata": {},
   "source": [
    "* https://pythonhosted.org/feedparser/\n",
    "* http://www.programcreek.com/python/example/558/feedparser.parse\n",
    "* http://alvinalexander.com/python/python-script-read-rss-feeds-database\n"
   ]
  },
  {
   "cell_type": "code",
   "execution_count": 2,
   "metadata": {
    "collapsed": false
   },
   "outputs": [
    {
     "name": "stdout",
     "output_type": "stream",
     "text": [
      "1491343308443\n"
     ]
    }
   ],
   "source": [
    "#\n",
    "# function to get the current time\n",
    "#\n",
    "current_time_millis = lambda: int(round(time.time() * 1000))\n",
    "current_timestamp = current_time_millis()\n",
    "print current_timestamp"
   ]
  },
  {
   "cell_type": "code",
   "execution_count": 3,
   "metadata": {
    "collapsed": true
   },
   "outputs": [],
   "source": [
    "def post_is_in_db(title):\n",
    "    with open(db, 'r') as database:\n",
    "        for line in database:\n",
    "            if title in line:\n",
    "                return True\n",
    "    return False\n",
    "\n",
    "\n",
    "# return true if the title is in the database with a timestamp > limit\n",
    "def post_is_in_db_with_old_timestamp(title):\n",
    "    with open(db, 'r') as database:\n",
    "        for line in database:\n",
    "            if title in line:\n",
    "                ts_as_string = line.split('|', 1)[1]\n",
    "                ts = long(ts_as_string)\n",
    "                if current_timestamp - ts > limit:\n",
    "                    return True\n",
    "    return False"
   ]
  },
  {
   "cell_type": "code",
   "execution_count": 4,
   "metadata": {
    "collapsed": true
   },
   "outputs": [],
   "source": [
    "db = 'feeds.db'\n",
    "\n",
    "limit = 24 * 3600 * 1000 # 24 hours"
   ]
  },
  {
   "cell_type": "code",
   "execution_count": 5,
   "metadata": {
    "collapsed": true
   },
   "outputs": [],
   "source": [
    "# stock market\n",
    "url = 'https://news.google.com/news?cf=all&hl=en&pz=1&ned=us&q=stock+market&output=rss'"
   ]
  },
  {
   "cell_type": "code",
   "execution_count": 6,
   "metadata": {
    "collapsed": true
   },
   "outputs": [],
   "source": [
    "feed = feedparser.parse(url)"
   ]
  },
  {
   "cell_type": "code",
   "execution_count": 9,
   "metadata": {
    "collapsed": false
   },
   "outputs": [
    {
     "name": "stdout",
     "output_type": "stream",
     "text": [
      "America's leadership of the global stock market is ending - Business Insider\n",
      "news.google.com/news/url\n",
      "/news/url\n",
      "America's stock markets are slowing down - Business Insider\n",
      "news.google.com/news/url\n",
      "/news/url\n",
      "Expect A 10-15% Decline In The Stock Market - Seeking Alpha\n",
      "news.google.com/news/url\n",
      "/news/url\n",
      "How you'll know if the stock-market bulls remain in control — in one chart - MarketWatch\n",
      "news.google.com/news/url\n",
      "/news/url\n",
      "Stock market edges higher as energy shares rebound - MarketWatch\n",
      "news.google.com/news/url\n",
      "/news/url\n",
      "Britain's new £1 suffers teething problems; US stock market ends losing run - as it happened - The Guardian\n",
      "news.google.com/news/url\n",
      "/news/url\n",
      "America's disproportionate weight in global stockmarket indices - The Economist\n",
      "news.google.com/news/url\n",
      "/news/url\n",
      "100 days into the 'Trump bump,' the market script has flipped - CNBC\n",
      "news.google.com/news/url\n",
      "/news/url\n",
      "New Roseville event center to host Stock Market Challenge - Press Tribune Newspaper\n",
      "news.google.com/news/url\n",
      "/news/url\n",
      "China's Stock Market Is Becoming a World-Beating Dividend Play - Bloomberg\n",
      "news.google.com/news/url\n",
      "/news/url\n"
     ]
    },
    {
     "data": {
      "text/plain": [
       "<function close>"
      ]
     },
     "execution_count": 9,
     "metadata": {},
     "output_type": "execute_result"
    }
   ],
   "source": [
    "posts_to_print = [] # a list of dd\n",
    "posts_to_skip = []\n",
    "\n",
    "for post in feed.entries:\n",
    "    title = post.title\n",
    "\n",
    "    if post_is_in_db_with_old_timestamp(title):\n",
    "        posts_to_skip.append(title)\n",
    "    else:\n",
    "        #url = urlparse(post.link)\n",
    "        description = re.compile(r'<.*?>').sub('', post[\"description\"])\n",
    "        postinfo_dd = {'title':title, description': description}\n",
    "        posts_to_print.append(postinfo_dd)\n",
    "                       \n",
    "        print title\n",
    "        #print url\n",
    "        \n",
    "#\n",
    "# add all the posts we're going to print to the database with the current timestamp\n",
    "# (but only if they're not already in there)\n",
    "#\n",
    "f = open(db, 'a')\n",
    "for item in posts_to_print:\n",
    "    tit = item['title']\n",
    "    if not post_is_in_db(tit):\n",
    "        f.write(title + \"|\" + str(current_timestamp) + \"\\n\")\n",
    "f.close"
   ]
  },
  {
   "cell_type": "code",
   "execution_count": 8,
   "metadata": {
    "collapsed": true
   },
   "outputs": [],
   "source": [
    "# #\n",
    "# # output all of the new posts\n",
    "# #\n",
    "# count = 1\n",
    "# blockcount = 1\n",
    "# for title in posts_to_print:\n",
    "#     if count % 5 == 1:\n",
    "#         print(\"\\n\" + time.strftime(\"%a, %b %d %I:%M %p\") + '  ((( ' + feed_name + ' - ' + str(blockcount) + ' )))')\n",
    "#         print(\"-----------------------------------------\\n\")\n",
    "#         blockcount += 1\n",
    "#     print(title + \"\\n\")\n",
    "#     count += 1"
   ]
  }
 ],
 "metadata": {
  "kernelspec": {
   "display_name": "Python [conda root]",
   "language": "python",
   "name": "conda-root-py"
  },
  "language_info": {
   "codemirror_mode": {
    "name": "ipython",
    "version": 2
   },
   "file_extension": ".py",
   "mimetype": "text/x-python",
   "name": "python",
   "nbconvert_exporter": "python",
   "pygments_lexer": "ipython2",
   "version": "2.7.13"
  }
 },
 "nbformat": 4,
 "nbformat_minor": 2
}
