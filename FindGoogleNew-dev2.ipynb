{
 "cells": [
  {
   "cell_type": "code",
   "execution_count": 1,
   "metadata": {
    "collapsed": false,
    "deletable": true,
    "editable": true
   },
   "outputs": [],
   "source": [
    "import feedparser\n",
    "from urlparse import urlparse\n",
    "import re\n",
    "\n",
    "import time\n",
    "from subprocess import check_output\n",
    "\n",
    "import sys\n",
    "# reload(sys)\n",
    "# sys.setdefaultencoding('utf-8')\n",
    "\n",
    "\n",
    "# email\n",
    "import getpass\n",
    "import smtplib\n",
    "from email.MIMEMultipart import MIMEMultipart\n",
    "from email.MIMEBase import MIMEBase\n",
    "from email.MIMEText import MIMEText\n",
    "from email import Encoders\n",
    "import os\n"
   ]
  },
  {
   "cell_type": "markdown",
   "metadata": {
    "deletable": true,
    "editable": true
   },
   "source": [
    "* https://pythonhosted.org/feedparser/\n",
    "* http://www.programcreek.com/python/example/558/feedparser.parse\n",
    "* http://alvinalexander.com/python/python-script-read-rss-feeds-database\n"
   ]
  },
  {
   "cell_type": "code",
   "execution_count": 2,
   "metadata": {
    "collapsed": false,
    "deletable": true,
    "editable": true
   },
   "outputs": [],
   "source": [
    "#\n",
    "# function to get the current time\n",
    "#\n",
    "current_time_millis = lambda: int(round(time.time() * 1000))\n",
    "current_timestamp = current_time_millis()\n",
    "#print current_timestamp\n",
    "\n",
    "gmail_user = 'ylm.neu@gmail.com'\n",
    "gmail_pwd = 'r9bbtzhy'\n",
    "\n",
    "# database\n",
    "db = 'feeds.db'\n",
    "\n",
    "# time limit : 24 hours\n",
    "limit = 24 * 3600 * 1000    "
   ]
  },
  {
   "cell_type": "code",
   "execution_count": null,
   "metadata": {
    "collapsed": true,
    "deletable": true,
    "editable": true
   },
   "outputs": [],
   "source": [
    "rss_dd = {}\n",
    "\n",
    "rss_dd['stock_market'] = 'https://news.google.com/news?cf=all&hl=en&pz=1&ned=us&q=stock+market&output=rss'\n",
    "rss_dd['nvidia'] = 'https://news.google.com/news?cf=all&hl=en&pz=1&ned=us&q=nvidia&output=rss'\n",
    "rss_dd['amd'] = 'https://news.google.com/news?cf=all&hl=en&pz=1&ned=us&q=amd&output=rss'\n",
    "rss_dd['samsung'] = 'https://news.google.com/news?cf=all&hl=en&pz=1&ned=us&q=samsung&output=rss'\n",
    "rss_dd['intel'] = 'https://news.google.com/news?cf=all&hl=en&pz=1&ned=us&q=intel&output=rss'\n",
    "rss_dd['qualcomm'] ='https://news.google.com/news?cf=all&hl=en&pz=1&ned=us&q=qualcomm&output=rss'\n",
    "rss_dd['amazon'] = 'https://news.google.com/news?cf=all&hl=en&pz=1&ned=us&q=amazon&output=rss'\n",
    "rss_dd['microsoft'] = 'https://news.google.com/news?cf=all&hl=en&pz=1&ned=us&q=microsoft&output=rss'\n",
    "rss_dd['facebook'] = 'https://news.google.com/news?cf=all&hl=en&pz=1&ned=us&q=facebook&output=rss'\n",
    "rss_dd['alibaba'] = 'https://news.google.com/news?cf=all&hl=en&pz=1&ned=us&q=alibaba&output=rss'"
   ]
  },
  {
   "cell_type": "code",
   "execution_count": 4,
   "metadata": {
    "collapsed": true,
    "deletable": true,
    "editable": true
   },
   "outputs": [],
   "source": [
    "def post_is_in_db(title):\n",
    "    with open(db, 'r') as database:\n",
    "        for line in database:\n",
    "            if title in line:\n",
    "                return True\n",
    "    return False"
   ]
  },
  {
   "cell_type": "code",
   "execution_count": 5,
   "metadata": {
    "collapsed": true,
    "deletable": true,
    "editable": true
   },
   "outputs": [],
   "source": [
    "# return true if the title is in the database with a timestamp > limit\n",
    "def post_is_in_db_with_old_timestamp(title):\n",
    "\n",
    "    with open(db, 'r') as database:\n",
    "        for line in database:\n",
    "            if title in line:\n",
    "                ts_as_string = line.split('|', 1)[1]\n",
    "                ts = long(ts_as_string)\n",
    "                if current_timestamp - ts > limit:\n",
    "                    return True"
   ]
  },
  {
   "cell_type": "code",
   "execution_count": 6,
   "metadata": {
    "collapsed": true,
    "deletable": true,
    "editable": true
   },
   "outputs": [],
   "source": [
    "def mail(to, subject, text, attach=None):\n",
    "    global gmail_user, gmail_pwd\n",
    "    msg = MIMEMultipart()\n",
    "    msg['From'] = gmail_user\n",
    "    msg['To'] = to\n",
    "    msg['Subject'] = subject\n",
    "    msg.attach(MIMEText(text))\n",
    "    if attach:\n",
    "        part = MIMEBase('application', 'octet-stream')\n",
    "        part.set_payload(open(attach, 'rb').read())\n",
    "        Encoders.encode_base64(part)\n",
    "        part.add_header('Content-Disposition', 'attachment; filename=\"%s\"' % os.path.basename(attach))\n",
    "        msg.attach(part)\n",
    "    mailServer = smtplib.SMTP(\"smtp.gmail.com\", 587)\n",
    "    mailServer.ehlo()\n",
    "    mailServer.starttls()\n",
    "    mailServer.ehlo()\n",
    "    mailServer.login(gmail_user, gmail_pwd)\n",
    "    mailServer.sendmail(gmail_user, to, msg.as_string())\n",
    "    mailServer.close()\n",
    "    return False"
   ]
  },
  {
   "cell_type": "code",
   "execution_count": 7,
   "metadata": {
    "collapsed": true,
    "deletable": true,
    "editable": true
   },
   "outputs": [],
   "source": [
    "def email_feed(email_title, posts_to_print):\n",
    "    # input: a list of dd ['title', 'description']\n",
    "    send_msg = ''\n",
    "    \n",
    "    for post in posts_to_print:\n",
    "        my_tit = post['title']\n",
    "        my_des = post['description']\n",
    "        #send_msg += '\\n---\\n' + my_tit + '\\n---\\n' + my_des + '\\n\\n'\n",
    "        send_msg += '\\n=>' + my_tit + '\\n'\n",
    "        \n",
    "    try:\n",
    "        mail(\"leimingyu830@gmail.com\", email_title, send_msg)\n",
    "        #pass\n",
    "    except:\n",
    "        sys.stderr.write('Something went wrong...')\n",
    "            "
   ]
  },
  {
   "cell_type": "code",
   "execution_count": 8,
   "metadata": {
    "collapsed": true,
    "deletable": true,
    "editable": true
   },
   "outputs": [],
   "source": [
    "def process_url(groupname, url):\n",
    "\n",
    "    #posts_to_skip = []\n",
    "    posts_to_print = [] # a list of dd\n",
    "    \n",
    "    feed = feedparser.parse(url)\n",
    "\n",
    "    NewFeed = False\n",
    "    for post in feed.entries:\n",
    "        title = post.title\n",
    "        \n",
    "        # within 24 hours\n",
    "        if not post_is_in_db_with_old_timestamp(title):\n",
    "            #url = urlparse(post.link)\n",
    "            description = re.compile(r'<.*?>').sub('', post[\"description\"])\n",
    "            postinfo_dd = {'title':title, 'description': description}\n",
    "            posts_to_print.append(postinfo_dd)\n",
    "            NewFeed = True\n",
    "    \n",
    "    #print(len(posts_to_print))\n",
    "    posts_to_email = []\n",
    "    \n",
    "    if NewFeed:\n",
    "        # store\n",
    "        #print('new feed')\n",
    "        \n",
    "        f = open(db, 'a')\n",
    "        for item in posts_to_print:\n",
    "            tit = item['title']\n",
    "            des = item['description']\n",
    "            \n",
    "            tit_encode = tit.encode('utf-8')\n",
    "            des_encode = des.encode('utf-8')\n",
    "            \n",
    "            # the post is new\n",
    "            if not post_is_in_db(tit_encode):\n",
    "                f.write(tit_encode + \"|\" + str(current_timestamp) + \"\\n\")\n",
    "                posts_to_email.append({'title':tit_encode, 'description': des_encode})\n",
    "                \n",
    "        f.close\n",
    "        \n",
    "        if posts_to_email:\n",
    "            email_feed(groupname, posts_to_email)\n",
    "                       \n",
    "def run_rss(rss_dd):\n",
    "    for key, value in rss_dd.items():\n",
    "        # each key  = the rss group name，    each value =  the rss url link\n",
    "        process_url(key, value)\n"
   ]
  },
  {
   "cell_type": "code",
   "execution_count": 9,
   "metadata": {
    "collapsed": false,
    "deletable": true,
    "editable": true
   },
   "outputs": [],
   "source": [
    "run_rss(rss_dd)"
   ]
  }
 ],
 "metadata": {
  "kernelspec": {
   "display_name": "Python [conda root]",
   "language": "python",
   "name": "conda-root-py"
  },
  "language_info": {
   "codemirror_mode": {
    "name": "ipython",
    "version": 2
   },
   "file_extension": ".py",
   "mimetype": "text/x-python",
   "name": "python",
   "nbconvert_exporter": "python",
   "pygments_lexer": "ipython2",
   "version": "2.7.13"
  }
 },
 "nbformat": 4,
 "nbformat_minor": 2
}
